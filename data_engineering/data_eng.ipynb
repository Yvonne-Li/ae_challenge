{
 "cells": [
  {
   "cell_type": "code",
   "execution_count": 1,
   "metadata": {},
   "outputs": [],
   "source": [
    "import pandas as pd\n",
    "import json\n",
    "from datetime import datetime\n",
    "import numpy as np"
   ]
  },
  {
   "cell_type": "code",
   "execution_count": 2,
   "metadata": {},
   "outputs": [],
   "source": [
    "# to read in json file\n",
    "with open('professionals_nested.json', 'r') as f:\n",
    "    data = json.load(f)\n",
    "professionals = data['professionals']"
   ]
  },
  {
   "cell_type": "markdown",
   "metadata": {},
   "source": [
    "### EDA"
   ]
  },
  {
   "cell_type": "code",
   "execution_count": 3,
   "metadata": {},
   "outputs": [
    {
     "name": "stdout",
     "output_type": "stream",
     "text": [
      "Number of professionals in the dataset: 10\n"
     ]
    }
   ],
   "source": [
    "print(f\"Number of professionals in the dataset: {len(professionals)}\")"
   ]
  },
  {
   "cell_type": "code",
   "execution_count": 4,
   "metadata": {},
   "outputs": [
    {
     "name": "stdout",
     "output_type": "stream",
     "text": [
      "<class 'pandas.core.frame.DataFrame'>\n",
      "RangeIndex: 10 entries, 0 to 9\n",
      "Data columns (total 9 columns):\n",
      " #   Column              Non-Null Count  Dtype \n",
      "---  ------              --------------  ----- \n",
      " 0   professional_id     10 non-null     object\n",
      " 1   years_experience    10 non-null     int64 \n",
      " 2   current_industry    10 non-null     object\n",
      " 3   current_role        10 non-null     object\n",
      " 4   education_level     10 non-null     object\n",
      " 5   num_jobs            10 non-null     int64 \n",
      " 6   num_skills          10 non-null     int64 \n",
      " 7   num_certifications  10 non-null     int64 \n",
      " 8   num_education       10 non-null     int64 \n",
      "dtypes: int64(5), object(4)\n",
      "memory usage: 848.0+ bytes\n",
      "None\n"
     ]
    }
   ],
   "source": [
    "professionals_df = pd.DataFrame([{\n",
    "    'professional_id': p['professional_id'],\n",
    "    'years_experience': p['years_experience'],\n",
    "    'current_industry': p['current_industry'],\n",
    "    'current_role': p['current_role'],\n",
    "    'education_level': p['education_level'],\n",
    "    'num_jobs': len(p['jobs']),\n",
    "    'num_skills': len(p['skills']),\n",
    "    'num_certifications': len(p.get('certifications', [])),\n",
    "    'num_education': len(p['education'])\n",
    "} for p in professionals])\n",
    "print(professionals_df.info())"
   ]
  },
  {
   "cell_type": "code",
   "execution_count": 5,
   "metadata": {},
   "outputs": [
    {
     "name": "stdout",
     "output_type": "stream",
     "text": [
      "       years_experience   num_jobs  num_skills  num_certifications  \\\n",
      "count         10.000000  10.000000   10.000000            10.00000   \n",
      "mean           9.200000   3.200000    3.400000             1.90000   \n",
      "std            4.732864   0.918937    0.699206             1.37032   \n",
      "min            3.000000   2.000000    3.000000             0.00000   \n",
      "25%            6.250000   3.000000    3.000000             1.00000   \n",
      "50%            8.500000   3.000000    3.000000             1.50000   \n",
      "75%           11.500000   3.750000    3.750000             2.75000   \n",
      "max           18.000000   5.000000    5.000000             4.00000   \n",
      "\n",
      "       num_education  \n",
      "count      10.000000  \n",
      "mean        1.600000  \n",
      "std         0.699206  \n",
      "min         1.000000  \n",
      "25%         1.000000  \n",
      "50%         1.500000  \n",
      "75%         2.000000  \n",
      "max         3.000000  \n"
     ]
    }
   ],
   "source": [
    "print(professionals_df.describe())"
   ]
  },
  {
   "cell_type": "code",
   "execution_count": 6,
   "metadata": {},
   "outputs": [
    {
     "name": "stdout",
     "output_type": "stream",
     "text": [
      "current_industry\n",
      "Technology    4\n",
      "Marketing     2\n",
      "Finance       2\n",
      "Healthcare    1\n",
      "Retail        1\n",
      "Name: count, dtype: int64\n"
     ]
    }
   ],
   "source": [
    "print(professionals_df['current_industry'].value_counts())"
   ]
  },
  {
   "cell_type": "code",
   "execution_count": 7,
   "metadata": {},
   "outputs": [
    {
     "name": "stdout",
     "output_type": "stream",
     "text": [
      "education_level\n",
      "Bachelors    5\n",
      "Masters      3\n",
      "PhD          1\n",
      "MBA          1\n",
      "Name: count, dtype: int64\n"
     ]
    }
   ],
   "source": [
    "print(professionals_df['education_level'].value_counts())"
   ]
  },
  {
   "cell_type": "code",
   "execution_count": 8,
   "metadata": {},
   "outputs": [
    {
     "name": "stdout",
     "output_type": "stream",
     "text": [
      "\n",
      "Nested Data Structures:\n",
      "Job fields: ['job_id', 'company', 'industry', 'role', 'start_date', 'end_date', 'salary_band']\n",
      "Skill fields: ['skill_id', 'skill_name', 'proficiency_level', 'years_experience']\n",
      "Education fields: ['education_id', 'degree', 'institution', 'field_of_study', 'graduation_date']\n"
     ]
    }
   ],
   "source": [
    "print(\"\\nNested Data Structures:\")\n",
    "print(f\"Job fields: {list(professionals[0]['jobs'][0].keys())}\")\n",
    "print(f\"Skill fields: {list(professionals[0]['skills'][0].keys())}\")\n",
    "print(f\"Education fields: {list(professionals[0]['education'][0].keys())}\")"
   ]
  },
  {
   "cell_type": "markdown",
   "metadata": {},
   "source": [
    "### Create DataFrames from nested structure"
   ]
  },
  {
   "cell_type": "code",
   "execution_count": 9,
   "metadata": {},
   "outputs": [],
   "source": [
    "professionals_df = pd.DataFrame([{\n",
    "    'professional_id': p['professional_id'],\n",
    "    'years_experience': p['years_experience'],\n",
    "    'current_industry': p['current_industry'],\n",
    "    'current_role': p['current_role'],\n",
    "    'education_level': p['education_level']\n",
    "} for p in professionals])"
   ]
  },
  {
   "cell_type": "code",
   "execution_count": 10,
   "metadata": {},
   "outputs": [],
   "source": [
    "jobs_list = []\n",
    "for p in professionals:\n",
    "    for job in p['jobs']:\n",
    "        job_dict = job.copy()\n",
    "        job_dict['professional_id'] = p['professional_id']\n",
    "        jobs_list.append(job_dict)\n",
    "        \n",
    "jobs_df = pd.DataFrame(jobs_list)"
   ]
  },
  {
   "cell_type": "code",
   "execution_count": 11,
   "metadata": {},
   "outputs": [],
   "source": [
    "skills_list = []\n",
    "for p in professionals:\n",
    "    for skill in p['skills']:\n",
    "        skill_dict = skill.copy()\n",
    "        skill_dict['professional_id'] = p['professional_id']\n",
    "        skills_list.append(skill_dict)\n",
    "        \n",
    "skills_df = pd.DataFrame(skills_list)"
   ]
  },
  {
   "cell_type": "code",
   "execution_count": 12,
   "metadata": {},
   "outputs": [],
   "source": [
    "certs_list = []\n",
    "for p in professionals:\n",
    "    for cert in p.get('certifications', []):\n",
    "        cert_dict = cert.copy()\n",
    "        cert_dict['professional_id'] = p['professional_id']\n",
    "        certs_list.append(cert_dict)\n",
    "        \n",
    "certs_df = pd.DataFrame(certs_list)"
   ]
  },
  {
   "cell_type": "code",
   "execution_count": 13,
   "metadata": {},
   "outputs": [],
   "source": [
    "education_list = []\n",
    "for p in professionals:\n",
    "    for edu in p['education']:\n",
    "        edu_dict = edu.copy()\n",
    "        edu_dict['professional_id'] = p['professional_id']\n",
    "        education_list.append(edu_dict)\n",
    "        \n",
    "education_df = pd.DataFrame(education_list)"
   ]
  },
  {
   "cell_type": "markdown",
   "metadata": {},
   "source": [
    "### Data Validation and QC\n",
    "- Validation of overlapping jobs\n",
    "- Identification of expired certifications\n",
    "- Outliers in years of experience\n",
    "- Validation of date formats and NULLs"
   ]
  },
  {
   "cell_type": "code",
   "execution_count": 14,
   "metadata": {},
   "outputs": [],
   "source": [
    "def convert_date(date_str):\n",
    "    if pd.isnull(date_str) or date_str is None:\n",
    "        return None\n",
    "    try:\n",
    "        return datetime.strptime(date_str, '%Y-%m-%d')\n",
    "    except (ValueError, TypeError):\n",
    "        return None\n",
    "\n",
    "jobs_df['start_date'] = jobs_df['start_date'].apply(convert_date)\n",
    "jobs_df['end_date'] = jobs_df['end_date'].apply(convert_date)"
   ]
  },
  {
   "cell_type": "code",
   "execution_count": null,
   "metadata": {},
   "outputs": [],
   "source": [
    "def validate_job_dates(prof_id):\n",
    "    prof_jobs = jobs_df[jobs_df['professional_id'] == prof_id].sort_values('start_date')\n",
    "    \n",
    "    prev_end = None\n",
    "    issues = []\n",
    "    \n",
    "    for i, job in prof_jobs.iterrows():\n",
    "        if prev_end and job['start_date'] and prev_end > job['start_date']:\n",
    "            issues.append(f\"Job {job['job_id']} starts before previous job ends\")\n",
    "        \n",
    "        if job['end_date'] and job['start_date'] and job['end_date'] < job['start_date']:\n",
    "            issues.append(f\"Job {job['job_id']} ends before it starts\")\n",
    "            \n",
    "        prev_end = job['end_date']\n",
    "    \n",
    "    return issues\n",
    "\n",
    "job_date_issues = {prof_id: validate_job_dates(prof_id) for prof_id in professionals_df['professional_id']}"
   ]
  },
  {
   "cell_type": "code",
   "execution_count": 16,
   "metadata": {},
   "outputs": [],
   "source": [
    "job_date_issues = {prof_id: validate_job_dates(prof_id) for prof_id in professionals_df['professional_id']}\n",
    "\n",
    "certs_df['date_earned'] = certs_df['date_earned'].apply(convert_date)\n",
    "certs_df['expiration_date'] = certs_df['expiration_date'].apply(convert_date)\n",
    "\n",
    "now = datetime.now()\n",
    "expired_certs = certs_df[certs_df['expiration_date'] < now]"
   ]
  },
  {
   "cell_type": "code",
   "execution_count": 17,
   "metadata": {},
   "outputs": [],
   "source": [
    "def detect_outliers(df, column):\n",
    "    q1 = df[column].quantile(0.25)\n",
    "    q3 = df[column].quantile(0.75)\n",
    "    iqr = q3 - q1\n",
    "    lower_bound = q1 - (1.5 * iqr)\n",
    "    upper_bound = q3 + (1.5 * iqr)\n",
    "    \n",
    "    return df[(df[column] < lower_bound) | (df[column] > upper_bound)]\n",
    "\n",
    "experience_outliers = detect_outliers(professionals_df, 'years_experience')\n",
    "skill_experience_outliers = detect_outliers(skills_df, 'years_experience')"
   ]
  },
  {
   "cell_type": "markdown",
   "metadata": {},
   "source": [
    "### Creating a dimensional model\n",
    "star schema was used to create ta dimensional model\n",
    "dimension tables include following: professionals (core professional attributes), skills, certificates, education, time, and industry\n",
    "\n",
    "fact table includes following: jobs, and career progression"
   ]
  },
  {
   "cell_type": "code",
   "execution_count": 18,
   "metadata": {},
   "outputs": [],
   "source": [
    "def create_time_dim():\n",
    "    all_dates = []\n",
    "    #job dates\n",
    "    all_dates.extend(jobs_df['start_date'].dropna().tolist())\n",
    "    all_dates.extend(jobs_df['end_date'].dropna().tolist())\n",
    "    #certificate dates\n",
    "    all_dates.extend(certs_df['date_earned'].dropna().tolist())\n",
    "    all_dates.extend(certs_df['expiration_date'].dropna().tolist())\n",
    "    all_dates.extend([convert_date(date) for date in education_df['graduation_date'].dropna()])\n",
    "    \n",
    "    unique_dates = list(set(all_dates))\n",
    "    unique_dates.sort()\n",
    "    #time demension\n",
    "    time_dim = pd.DataFrame({\n",
    "        'date_id': range(len(unique_dates)),'full_date': unique_dates,'year': [d.year for d in unique_dates],\n",
    "        'month': [d.month for d in unique_dates],\n",
    "        'quarter': [((d.month-1)//3)+1 for d in unique_dates]\n",
    "    })\n",
    "    \n",
    "    return time_dim\n",
    "\n",
    "time_dim = create_time_dim()"
   ]
  },
  {
   "cell_type": "code",
   "execution_count": 19,
   "metadata": {},
   "outputs": [],
   "source": [
    "industry_dim = pd.DataFrame({\n",
    "    'industry_id': range(len(jobs_df['industry'].unique())),\n",
    "    'industry_name': jobs_df['industry'].unique()\n",
    "})"
   ]
  },
  {
   "cell_type": "code",
   "execution_count": 20,
   "metadata": {},
   "outputs": [],
   "source": [
    "def career_prog_fact():\n",
    "    #job duration\n",
    "    jobs_df['duration_months'] = None\n",
    "    for i, row in jobs_df.iterrows():\n",
    "        if row['start_date'] and row['end_date']:\n",
    "            months = (row['end_date'].year - row['start_date'].year) * 12 + (row['end_date'].month - row['start_date'].month)\n",
    "            jobs_df.at[i, 'duration_months'] = months\n",
    "        elif row['start_date'] and not row['end_date']:\n",
    "            months = (now.year - row['start_date'].year) * 12 + (now.month - row['start_date'].month)\n",
    "            jobs_df.at[i, 'duration_months'] = months\n",
    "    \n",
    "    prog_data = []\n",
    "    \n",
    "    for prof_id in professionals_df['professional_id']:\n",
    "        prof_jobs = jobs_df[jobs_df['professional_id'] == prof_id].sort_values('start_date')\n",
    "        \n",
    "        if len(prof_jobs) > 1:\n",
    "            #salary growth\n",
    "            sb1 = prof_jobs.iloc[0]['salary_band']\n",
    "            sb2 = prof_jobs.iloc[-1]['salary_band']\n",
    "            salary_growth = sb2 - sb1\n",
    "            #current position\n",
    "            j1 = prof_jobs.iloc[0]['start_date']\n",
    "            j2 = prof_jobs.iloc[-1]['start_date']\n",
    "            \n",
    "            if j1 and j2:\n",
    "                months_to_current = (j2.year - j1.year) * 12 + (j2.month - j1.month)\n",
    "            else:\n",
    "                months_to_current = None\n",
    "            # industry changes\n",
    "            industry_changes = len(prof_jobs['industry'].unique()) - 1\n",
    "            num_roles = len(prof_jobs)\n",
    "            prog_data.append({\n",
    "                'professional_id': prof_id,\n",
    "                'num_roles': num_roles,\n",
    "                'salary_band_growth': salary_growth,\n",
    "                'months_to_current_role': months_to_current,\n",
    "                'industry_changes': industry_changes,\n",
    "                'avg_job_duration': prof_jobs['duration_months'].mean()\n",
    "            })\n",
    "    return pd.DataFrame(prog_data)\n",
    "career_prog_fact = career_prog_fact()"
   ]
  },
  {
   "cell_type": "code",
   "execution_count": 21,
   "metadata": {},
   "outputs": [],
   "source": [
    "professionals_df.to_csv('output/dim_professionals.csv', index=False)\n",
    "jobs_df.to_csv('output/fact_jobs.csv', index=False)\n",
    "skills_df.to_csv('output/dim_skills.csv', index=False)\n",
    "certs_df.to_csv('output/dim_certifications.csv', index=False)\n",
    "education_df.to_csv('output/dim_education.csv', index=False)\n",
    "time_dim.to_csv('output/dim_time.csv', index=False)\n",
    "industry_dim.to_csv('output/dim_industry.csv', index=False)\n",
    "career_prog_fact.to_csv('output/fact_career_progression.csv', index=False)\n"
   ]
  },
  {
   "cell_type": "code",
   "execution_count": 22,
   "metadata": {},
   "outputs": [
    {
     "name": "stdout",
     "output_type": "stream",
     "text": [
      "=== Data Quality Issues ===\n",
      "Job date inconsistencies: 0 issues\n",
      "Expired certifications: 19 certifications\n",
      "Outliers in professional experience: 0 professionals\n",
      "Outliers in skill experience: 1 skills\n"
     ]
    }
   ],
   "source": [
    "print(\"=== Data Quality Issues ===\")\n",
    "print(f\"Job date inconsistencies: {sum(len(issues) for issues in job_date_issues.values())} issues\")\n",
    "print(f\"Expired certifications: {len(expired_certs)} certifications\")\n",
    "print(f\"Outliers in professional experience: {len(experience_outliers)} professionals\")\n",
    "print(f\"Outliers in skill experience: {len(skill_experience_outliers)} skills\")"
   ]
  }
 ],
 "metadata": {
  "kernelspec": {
   "display_name": "Python (bd4h_project)",
   "language": "python",
   "name": "bd4h_project"
  },
  "language_info": {
   "codemirror_mode": {
    "name": "ipython",
    "version": 3
   },
   "file_extension": ".py",
   "mimetype": "text/x-python",
   "name": "python",
   "nbconvert_exporter": "python",
   "pygments_lexer": "ipython3",
   "version": "3.10.10"
  }
 },
 "nbformat": 4,
 "nbformat_minor": 2
}
